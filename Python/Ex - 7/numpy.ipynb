{
 "cells": [
  {
   "cell_type": "markdown",
   "metadata": {},
   "source": [
    "<pre>\n",
    "Q1. Create two 3×3 matrices using the random function in Numpy and perform the following operations.\n",
    "è Product (prod)\n",
    "è Multiplication (multiply)\n",
    "è Dot Product (dot)\n",
    "</pre>"
   ]
  },
  {
   "cell_type": "code",
   "execution_count": 11,
   "metadata": {},
   "outputs": [
    {
     "name": "stdout",
     "output_type": "stream",
     "text": [
      "[[7 1 8]\n",
      " [4 8 3]\n",
      " [9 6 6]]\n",
      "\n",
      "[[7 2 3]\n",
      " [1 4 1]\n",
      " [2 9 4]]\n",
      "\n",
      "PRODUCT : \n",
      "[[66 90 54]\n",
      " [42 67 32]\n",
      " [81 96 57]]\n",
      "\n",
      "DOT PRODUCT : \n",
      "[[66 90 54]\n",
      " [42 67 32]\n",
      " [81 96 57]]\n",
      "\n",
      "MULTIPLICATION : \n",
      "[[49  2 24]\n",
      " [ 4 32  3]\n",
      " [18 54 24]]\n"
     ]
    }
   ],
   "source": [
    "from numpy import *\n",
    "x = np.random.randint(1,10,(3,3))\n",
    "print(x)\n",
    "\n",
    "print()\n",
    "y = np.random.randint(1,10,(3,3))\n",
    "print(y)\n",
    "\n",
    "# PRODUCT\n",
    "print()\n",
    "print(\"PRODUCT : \")\n",
    "prod = matmul(x, y)\n",
    "print(prod)\n",
    "\n",
    "# DOT\n",
    "print()\n",
    "print(\"DOT PRODUCT : \")\n",
    "prod = dot(x, y)\n",
    "print(prod)\n",
    "\n",
    "# MULTIPLY\n",
    "print()\n",
    "print(\"MULTIPLICATION : \")\n",
    "prod = multiply(x, y)\n",
    "print(prod)"
   ]
  },
  {
   "cell_type": "markdown",
   "metadata": {},
   "source": [
    "<pre>\n",
    "Q2. Perform the following set operations using the Numpy functions.\n",
    "è Union\n",
    "è Intersection\n",
    "è Set difference\n",
    "è XOR\n",
    "</pre>"
   ]
  },
  {
   "cell_type": "code",
   "execution_count": 18,
   "metadata": {},
   "outputs": [
    {
     "name": "stdout",
     "output_type": "stream",
     "text": [
      "UNION :  [0 1 2 3 4 5 7 8 9]\n",
      "INTERSECTIOPN [4]\n",
      "SET DIFFENENCE [1 2 3 5]\n",
      "XOR [ 6 10 10  4  1]\n"
     ]
    }
   ],
   "source": [
    "set1 = np.array([1,2,3,4,5])\n",
    "set2 = np.array([7,8,9,0,4])\n",
    "\n",
    "print(\"UNION : \", union1d(set1,set2))\n",
    "print(\"INTERSECTIOPN\", intersect1d(set1,set2))\n",
    "print(\"SET DIFFENENCE\", setdiff1d(set1,set2))\n",
    "print(\"XOR\", bitwise_xor(set1,set2))"
   ]
  },
  {
   "cell_type": "markdown",
   "metadata": {},
   "source": [
    "<pre>\n",
    "Q3. Create a 1D array using Random function and perform the following operations.\n",
    "è Cumulative sum\n",
    "è Cumulative Product\n",
    "è Discrete difference (with n=3)\n",
    "è Find the unique elements from the array\n",
    "</pre>"
   ]
  },
  {
   "cell_type": "code",
   "execution_count": 31,
   "metadata": {},
   "outputs": [
    {
     "name": "stdout",
     "output_type": "stream",
     "text": [
      "[3 7 2 6 3 1]\n",
      "Cumulative sum : [ 3 10 12 18 21 22]\n",
      "Cumulative Product :  [  3  21  42 252 756 756]\n",
      "Unique :  [1 2 3 6 7]\n",
      "Discrete Difference :  [ 18 -16   8]\n"
     ]
    }
   ],
   "source": [
    "x = random.randint(1,10,(6))\n",
    "\n",
    "print(x)\n",
    "print(\"Cumulative sum :\", cumsum(x))\n",
    "print(\"Cumulative Product : \", cumprod(x))\n",
    "print(\"Unique : \", unique(x))\n",
    "print(\"Discrete Difference : \", diff(x,n=3))"
   ]
  },
  {
   "cell_type": "markdown",
   "metadata": {},
   "source": [
    "##### Q4. Create two 1D array and perform the Addition using zip(), add() and user defined function (frompyfunc())"
   ]
  },
  {
   "cell_type": "code",
   "execution_count": 42,
   "metadata": {},
   "outputs": [
    {
     "name": "stdout",
     "output_type": "stream",
     "text": [
      "Using zip() [8, 10, 12, 4, 17]\n",
      "Using +  [ 8 10 12  4 17]\n",
      "User def function :  [ 8 10 12  4 17]\n"
     ]
    }
   ],
   "source": [
    "x = array([1,2,3,4,5])\n",
    "y = array([7,8,9,0,12])\n",
    "\n",
    "print(\"Using zip()\", [n+m for n, m in zip(x,y)])\n",
    "print(\"Using + \", x+y)\n",
    "print(\"User def function : \", add(x, y))\n",
    "\n",
    "def add(set1, set2):\n",
    "    for i in range(len(set1)):\n",
    "        set1[i] += set2[i]\n",
    "\n",
    "    return set1"
   ]
  },
  {
   "cell_type": "markdown",
   "metadata": {},
   "source": [
    "#### Q5. Find the LCM (Least Common Multiple) and GCD (Greatest Common Divisor) of an array of elements using reduce()."
   ]
  },
  {
   "cell_type": "code",
   "execution_count": 45,
   "metadata": {},
   "outputs": [
    {
     "name": "stdout",
     "output_type": "stream",
     "text": [
      "LCM: 56\n",
      "GCD: 2\n"
     ]
    }
   ],
   "source": [
    "from functools import reduce\n",
    "import numpy as np\n",
    "from math import gcd\n",
    "\n",
    "\n",
    "input_str = input(\"Enter values for the array comma-separated: \")\n",
    "a = np.array([int(x) for x in input_str.split(',')])\n",
    "\n",
    "def calculate_lcm(x, y):\n",
    "    return x * y // gcd(x, y)\n",
    "\n",
    "def calculate_gcd(x, y):\n",
    "    while y != 0:\n",
    "        x, y = y, x % y\n",
    "    return x\n",
    "\n",
    "lcm = reduce(calculate_lcm, a)\n",
    "gcd = reduce(calculate_gcd, a)\n",
    "\n",
    "print(\"LCM:\", lcm)\n",
    "print(\"GCD:\", gcd)\n"
   ]
  }
 ],
 "metadata": {
  "kernelspec": {
   "display_name": "Python 3",
   "language": "python",
   "name": "python3"
  },
  "language_info": {
   "codemirror_mode": {
    "name": "ipython",
    "version": 3
   },
   "file_extension": ".py",
   "mimetype": "text/x-python",
   "name": "python",
   "nbconvert_exporter": "python",
   "pygments_lexer": "ipython3",
   "version": "3.11.4"
  },
  "orig_nbformat": 4
 },
 "nbformat": 4,
 "nbformat_minor": 2
}
