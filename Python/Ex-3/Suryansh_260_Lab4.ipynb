{
 "cells": [
  {
   "cell_type": "markdown",
   "metadata": {},
   "source": [
    "# Lab Exercise 4\n",
    "Write a Python program to implement the object-oriented concepts of multiple, Multilevel and Hierarchical Inheritances using your domain applications.\n"
   ]
  },
  {
   "attachments": {
    "image.png": {
     "image/png": "[encoded data removed]"
    }
   },
   "cell_type": "markdown",
   "metadata": {},
   "source": [
    "##### MULTI-LEVEL INHERITANCE \n",
    "\n",
    "![image.png](attachment:image.png)"
   ]
  },
  {
   "cell_type": "code",
   "execution_count": 29,
   "metadata": {},
   "outputs": [
    {
     "name": "stdout",
     "output_type": "stream",
     "text": [
      "The Company Anoexo has an event Ureka managed by Suraj\n"
     ]
    }
   ],
   "source": [
    "# MULTI-LEVEL INHERITANCE \n",
    "\n",
    "class Event:   \n",
    "    def __init__(self, name):\n",
    "        self.ename = name \n",
    "\n",
    "class Manager(Event):\n",
    "    def __init__(self, ename, mname):\n",
    "        self.ename = ename\n",
    "        self.Manager_name = mname\n",
    "\n",
    "class company(Manager):\n",
    "    def __init__(self, ename, manager, comp_name):\n",
    "        self.Ename = ename\n",
    "        self.Manager_name = manager\n",
    "        self.cname = comp_name\n",
    "\n",
    "    def details(self):\n",
    "        print(f\"The Company {self.cname} has an event {self.Ename} managed by {self.Manager_name}\")\n",
    "\n",
    "ma = company(\"Ureka\", \"Suraj\", \"Anoexo\")\n",
    "\n",
    "ma.details()\n"
   ]
  },
  {
   "attachments": {
    "image.png": {
     "image/png": "[encoded data removed]"
    }
   },
   "cell_type": "markdown",
   "metadata": {},
   "source": [
    "##### MULTIPLE INHERITANCE\n",
    "\n",
    "![image.png](attachment:image.png)"
   ]
  },
  {
   "cell_type": "code",
   "execution_count": 39,
   "metadata": {},
   "outputs": [
    {
     "name": "stdout",
     "output_type": "stream",
     "text": [
      "Company : Meta, Event : MicDrop, Manager : Raj\n"
     ]
    }
   ],
   "source": [
    "# MULTIPLE INHERITANCE\n",
    "\n",
    "class Event:   \n",
    "    def __init__(self, name):\n",
    "        self.Ename = name\n",
    "\n",
    "    def event(self):\n",
    "        print(f\"Event : {self.ename}\")\n",
    "\n",
    "class Manager:\n",
    "    def __init__(self, name):\n",
    "        self.Manager_name = name\n",
    "    \n",
    "    def manager(self):\n",
    "        print(f\"Manager : {self.Manager_name}\")\n",
    "\n",
    "class company(Event, Manager):\n",
    "    def __init__(self, ename, manager, comp_name):\n",
    "        self.Ename = ename\n",
    "        self.Manager_name = manager\n",
    "        self.cname = comp_name\n",
    "\n",
    "    def details(self):\n",
    "        print(f\"Company : {self.cname}, Event : {self.Ename}, Manager : {self.Manager_name}\")\n",
    "\n",
    "\n",
    "c = company(\"MicDrop\", \"Raj\", \"Meta\")\n",
    "\n",
    "c.details()"
   ]
  },
  {
   "attachments": {
    "image.png": {
     "image/png": "[encoded data removed]"
    }
   },
   "cell_type": "markdown",
   "metadata": {},
   "source": [
    "##### HIERARCHICAL INHERITANCE\n",
    "\n",
    "![image.png](attachment:image.png)"
   ]
  },
  {
   "cell_type": "code",
   "execution_count": 43,
   "metadata": {},
   "outputs": [
    {
     "name": "stdout",
     "output_type": "stream",
     "text": [
      "Company : Meta, Event : MicDrop\n",
      "Rahul is assigned to the event MicDrop\n"
     ]
    }
   ],
   "source": [
    "# HIERARCHICAL INHERITANCE\n",
    "\n",
    "class Event:   \n",
    "    def __init__(self, name):\n",
    "        self.Ename = name\n",
    "\n",
    "    def event(self):\n",
    "        print(f\"Event : {self.ename}\")\n",
    "\n",
    "class Manager(Event):\n",
    "    def __init__(self, name, ename):\n",
    "        Event.__init__(self, ename)\n",
    "        self.Manager_name = name\n",
    "    \n",
    "    def manager(self):\n",
    "        print(f\"{self.Manager_name} is assigned to the event {self.Ename}\")\n",
    "\n",
    "class company(Event):\n",
    "    def __init__(self, ename, comp_name):\n",
    "        self.Ename = ename\n",
    "        self.cname = comp_name\n",
    "\n",
    "    def details(self):\n",
    "        print(f\"Company : {self.cname}, Event : {self.Ename}\")\n",
    "\n",
    "\n",
    "c = company(\"MicDrop\", \"Meta\")\n",
    "m = Manager(\"Rahul\", \"MicDrop\")\n",
    "\n",
    "c.details()\n",
    "m.manager()"
   ]
  }
 ],
 "metadata": {
  "kernelspec": {
   "display_name": "Python 3",
   "language": "python",
   "name": "python3"
  },
  "language_info": {
   "codemirror_mode": {
    "name": "ipython",
    "version": 3
   },
   "file_extension": ".py",
   "mimetype": "text/x-python",
   "name": "python",
   "nbconvert_exporter": "python",
   "pygments_lexer": "ipython3",
   "version": "3.11.4"
  },
  "orig_nbformat": 4
 },
 "nbformat": 4,
 "nbformat_minor": 2
}
