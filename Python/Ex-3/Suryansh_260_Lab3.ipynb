{
 "cells": [
  {
   "cell_type": "markdown",
   "metadata": {},
   "source": [
    "# Lab Exercise 3\n",
    "<pre>\n",
    "Write a function in Python with a string such that it accepts a parameter- “stringsplit”. \n",
    "This encoded string will contain your name, domain name and register number. \n",
    "You can separate the values in the string by any number of underscores. \n",
    "[The string should not contain any other underscore symbols in your name, \n",
    "domain name and register number]. The function should return a Python dictionary\n",
    "with your name, domain name and register number.\n",
    "For example, if the input would be \" Aaron___Googleplaystore____2347201”. Then the function should return the output as follows:\n",
    "    { \"name\": \" Aaron \",\n",
    "    \"Domain_name\": \" Googleplaystore \",\n",
    "    \"Regno\": \"2347201\" }\n",
    "</pre>\n"
   ]
  },
  {
   "cell_type": "code",
   "execution_count": 2,
   "metadata": {},
   "outputs": [
    {
     "name": "stdout",
     "output_type": "stream",
     "text": [
      "{'Name': 'Suryansh', 'Domain_name': 'Event management', 'Reg_No': '2347260'}\n"
     ]
    }
   ],
   "source": [
    "def store_data (stringsplit):\n",
    "    l = stringsplit.split(\"_\")\n",
    "    l = list(filter(None, l))\n",
    "    dict = {\n",
    "        \"Name\" : l[0],\n",
    "        \"Domain_name\": l[1],\n",
    "        \"Reg_No\": l[2]\n",
    "    }\n",
    "    print(dict)\n",
    "\n",
    "# s = \"Suryansh__Mangement__________2347260\"\n",
    "s = input(\"Enter Your details in the following fromate: \\n <Name>___<DomainName>___<RegNo>\")\n",
    "store_data(s)\n"
   ]
  }
 ],
 "metadata": {
  "kernelspec": {
   "display_name": "Python 3",
   "language": "python",
   "name": "python3"
  },
  "language_info": {
   "codemirror_mode": {
    "name": "ipython",
    "version": 3
   },
   "file_extension": ".py",
   "mimetype": "text/x-python",
   "name": "python",
   "nbconvert_exporter": "python",
   "pygments_lexer": "ipython3",
   "version": "3.11.4"
  },
  "orig_nbformat": 4
 },
 "nbformat": 4,
 "nbformat_minor": 2
}
