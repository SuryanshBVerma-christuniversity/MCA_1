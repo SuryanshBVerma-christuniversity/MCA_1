{
 "cells": [
  {
   "cell_type": "markdown",
   "metadata": {},
   "source": [
    "### Q1. Write a python program to count the frequency of any specific word (in your domain) in the paragraph."
   ]
  },
  {
   "cell_type": "code",
   "execution_count": 1,
   "metadata": {},
   "outputs": [
    {
     "name": "stdout",
     "output_type": "stream",
     "text": [
      "The word 'my' appears 3 times in the paragraph.\n"
     ]
    }
   ],
   "source": [
    "def main():\n",
    "\n",
    "    name =\"Suryansh Bachchan Verma\"\n",
    "    reg = 2347260\n",
    "    para = f'My name is {name}, I have choose \"Event Management\" as my domain my registration number is {reg}, from MCA section B'\n",
    "\n",
    "    word = \"my\"\n",
    "    frequency = count_word_frequency(para, word)\n",
    "    print(f\"The word '{word}' appears {frequency} times in the paragraph.\")\n",
    "\n",
    "\n",
    "def count_word_frequency(paragraph, word):\n",
    "    words_list = paragraph.split()\n",
    "    count = 0\n",
    "    for w in words_list:\n",
    "        if w.lower().strip('.,') == word.lower().strip('.,'):\n",
    "            count += 1\n",
    "    return count\n",
    "\n",
    "main()"
   ]
  },
  {
   "cell_type": "markdown",
   "metadata": {},
   "source": [
    "### Q2. Write a python program to display all the datatypes of selected specific elements in the paragraph. (For example:– name - string, reg.no - int, marks - float, etc.)"
   ]
  },
  {
   "cell_type": "code",
   "execution_count": 2,
   "metadata": {},
   "outputs": [
    {
     "name": "stdout",
     "output_type": "stream",
     "text": [
      "Data Types of Selected Specific Elements:\n",
      "My - string\n",
      "name - string\n",
      "is - string\n",
      "Suryansh - string\n",
      "Bachchan - string\n",
      "Verma - string\n",
      "I - string\n",
      "have - string\n",
      "choose - string\n",
      "\"Event - string\n",
      "Management\" - string\n",
      "as - string\n",
      "my - string\n",
      "domain - string\n",
      "my - string\n",
      "registration - string\n",
      "number - string\n",
      "is - string\n",
      "2347260 - int\n",
      "from - string\n",
      "MCA - string\n",
      "section - string\n",
      "B - string\n",
      "2023 - int\n"
     ]
    }
   ],
   "source": [
    "from re import split\n",
    "\n",
    "def get_datatype(element):\n",
    "    try:\n",
    "        int(element)\n",
    "        return \"int\"\n",
    "    except ValueError:\n",
    "        pass\n",
    "    \n",
    "    try:\n",
    "        float(element)\n",
    "        return \"float\"\n",
    "    except ValueError:\n",
    "        pass\n",
    "    \n",
    "    return \"string\"\n",
    "\n",
    "\n",
    "def main():\n",
    "    name =\"Suryansh Bachchan Verma\"\n",
    "    reg = 2347260\n",
    "    year = 2023\n",
    "    para = f'My name is {name}, I have choose \"Event Management\" as my domain my registration number is {reg}, from MCA section B {year}'\n",
    "\n",
    "    words = split(\" |, \", para)\n",
    "    print(\"Data Types of Selected Specific Elements:\")\n",
    "    for word in words:\n",
    "        datatype = get_datatype(word)\n",
    "        print(f\"{word} - {datatype}\")\n",
    "\n",
    "main()\n",
    "\n"
   ]
  },
  {
   "cell_type": "markdown",
   "metadata": {},
   "source": [
    "### Q3. Write a python program to count the number of alphabets, numeric and other special symbols in the paragraph."
   ]
  },
  {
   "cell_type": "code",
   "execution_count": 3,
   "metadata": {},
   "outputs": [
    {
     "name": "stdout",
     "output_type": "stream",
     "text": [
      "Number of int characters in the paragraph: 11\n",
      "Number of String characters in the paragraph: 102\n",
      "Number of special characters in the paragraph: 4\n"
     ]
    }
   ],
   "source": [
    "def main():\n",
    "\n",
    "    alpha, numeric, special = 0, 0, 0\n",
    "    name =\"Suryansh Bachchan Verma\"\n",
    "    reg = 2347260\n",
    "    year = 2023\n",
    "    para = f'My name is {name}, I have choose \"Event Management\" as my domain my registration number is {reg}, from MCA section B {year}'\n",
    "\n",
    "\n",
    "    for i in para:\n",
    "\n",
    "        if i.isdigit():\n",
    "            numeric += 1\n",
    "        elif i.isalpha():\n",
    "            alpha += 1 \n",
    "        elif not i == \" \":\n",
    "            special += 1\n",
    "        \n",
    "    print(f\"Number of int characters in the paragraph: {numeric}\")\n",
    "    print(f\"Number of String characters in the paragraph: {alpha}\")\n",
    "    print(f\"Number of special characters in the paragraph: {special}\")\n",
    "\n",
    "main()\n"
   ]
  },
  {
   "cell_type": "markdown",
   "metadata": {},
   "source": [
    "### Q4. Create a Set with elements that consists of various data types (int, float, string, Boolean, etc. from your domain) and perform the functions pop(), clear(), discard() and del. Write the insights as docstring."
   ]
  },
  {
   "cell_type": "code",
   "execution_count": 4,
   "metadata": {},
   "outputs": [
    {
     "name": "stdout",
     "output_type": "stream",
     "text": [
      "pop() :  {1, 10000.0}\n",
      "clear() :  set()\n",
      "discard(<value>) :  {'Pitch Deck', 1, 10000.0}\n",
      "del event : "
     ]
    },
    {
     "ename": "NameError",
     "evalue": "name 'event' is not defined",
     "output_type": "error",
     "traceback": [
      "\u001b[1;31m---------------------------------------------------------------------------\u001b[0m",
      "\u001b[1;31mNameError\u001b[0m                                 Traceback (most recent call last)",
      "Cell \u001b[1;32mIn[4], line 35\u001b[0m\n\u001b[0;32m     33\u001b[0m \u001b[39mdel\u001b[39;00m event\n\u001b[0;32m     34\u001b[0m \u001b[39mprint\u001b[39m(\u001b[39m\"\u001b[39m\u001b[39mdel event : \u001b[39m\u001b[39m\"\u001b[39m, end\u001b[39m=\u001b[39m\u001b[39m\"\u001b[39m\u001b[39m\"\u001b[39m)\n\u001b[1;32m---> 35\u001b[0m \u001b[39mprint\u001b[39m(event)\n",
      "\u001b[1;31mNameError\u001b[0m: name 'event' is not defined"
     ]
    }
   ],
   "source": [
    "\n",
    "# event set = {Sl, Name_of_event, budget, invitation_status(T/F)}\n",
    "event = {1, \"Pitch Deck\", 10000.00, True}\n",
    "\n",
    "'''\n",
    "    pop(): Removes random item from the set\n",
    "\n",
    "'''\n",
    "event.pop()\n",
    "print(\"pop() : \",event)\n",
    "\n",
    "# event set = {Sl, Name_of_event, budget, invitation_status(T/F)}\n",
    "event = {1, \"Pitch Deck\", 10000.00, True}\n",
    "''' \n",
    "    clear(): Removes all elements in a set.\n",
    "'''\n",
    "event.clear()\n",
    "print(\"clear() : \", event)\n",
    "\n",
    "# event set = {Sl, Name_of_event, budget, invitation_status(T/F)}\n",
    "event = {1, \"Pitch Deck\", 10000.00, True}\n",
    "''' \n",
    "    discard(): Similar to remove() just that discard() does not raises \n",
    "    an error if the value entered does not exsist.\n",
    "'''\n",
    "event.discard(\"p\")\n",
    "print(\"discard(<value>) : \", event)\n",
    "\n",
    "# event set = {Sl, Name_of_event, budget, invitation_status(T/F)}\n",
    "event = {1, \"Pitch Deck\", 10000.00, True}\n",
    "''' \n",
    "    del : Deletes the set event, so print(event) will raise an error\n",
    "'''\n",
    "del event # del will remove the event element, hence an error will be produced\n",
    "print(\"del event : \", end=\"\")\n",
    "print(event)"
   ]
  },
  {
   "cell_type": "markdown",
   "metadata": {},
   "source": [
    "### Q5. Update the Set with minimum 5 string attributes of your domain and arrange the Set in descending order."
   ]
  },
  {
   "cell_type": "code",
   "execution_count": 5,
   "metadata": {},
   "outputs": [
    {
     "name": "stdout",
     "output_type": "stream",
     "text": [
      "<class 'set'>\n",
      "{'Food:Available', '5 Pm', 'Cultural Event', 'Near Greenwich Park', 'Students'}\n",
      "{'Food:Available', 'Students', '5 Pm', 'Cultural Event', 'Near Greenwich Park'}\n"
     ]
    }
   ],
   "source": [
    "event = set()\n",
    "print(type(event))\n",
    "\n",
    "event_details = {\"5 Pm\", \"Near Greenwich Park\", \"Cultural Event\", \"Students\", \"Food:Available\"}\n",
    "event.update(event_details)\n",
    "\n",
    "print(event)\n",
    "\n",
    "# Arranging in decending order\n",
    "\n",
    "sorted_list = sorted(event, reverse=True)\n",
    "\n",
    "print(set(sorted_list))"
   ]
  },
  {
   "cell_type": "markdown",
   "metadata": {},
   "source": [
    "### Q6. Create a Tuple and Execute the packing and unpacking operations of tuples using the attributes of your domain."
   ]
  },
  {
   "cell_type": "code",
   "execution_count": 6,
   "metadata": {},
   "outputs": [
    {
     "name": "stdout",
     "output_type": "stream",
     "text": [
      "Time : 5 Pm\n",
      "location : Near Greenwich Park\n",
      "Event Type : Cultural Event\n",
      "Group : Students\n",
      "Food : Available\n"
     ]
    }
   ],
   "source": [
    "event = (\"5 Pm\", \"Near Greenwich Park\", \"Cultural Event\", \"Students\", \"Available\")\n",
    "\n",
    "time, location, event_type, group, food = event\n",
    "\n",
    "print(\"Time :\", time)\n",
    "print(\"location :\", location)\n",
    "print(\"Event Type :\", event_type)\n",
    "print(\"Group :\", group)\n",
    "print(\"Food :\", food)"
   ]
  },
  {
   "cell_type": "markdown",
   "metadata": {},
   "source": [
    "### Q7. Enter your domain name as characters and count any number of characters and print the count (for example – (‘p’,’r’,’o’,’g’,’r’,’a’,’m’) count of ‘r’ = 2)"
   ]
  },
  {
   "cell_type": "code",
   "execution_count": 10,
   "metadata": {},
   "outputs": [
    {
     "name": "stdout",
     "output_type": "stream",
     "text": [
      "Domain : EventManagement\n",
      "letter : e\n",
      "Count =  4\n"
     ]
    }
   ],
   "source": [
    "domain = \"Event Management\" # input(\"Enter your domain name : \") -- Since input values are not printed after execution on Jupyter-Vs Code\n",
    "domain = domain.replace(\" \",\"\")\n",
    "\n",
    "letter = \"e\" # input(\"Eneter the letter to search : \") -- Since input values are not printed after execution on Jupyter-Vs Code\n",
    "count = 0\n",
    "\n",
    "for i in domain.lower():\n",
    "    if letter == i:\n",
    "        count += 1 \n",
    "\n",
    "print(f\"Domain : {domain}\")\n",
    "print(f\"letter : {letter}\")\n",
    "print(\"Count = \", count)\n",
    "\n"
   ]
  },
  {
   "cell_type": "markdown",
   "metadata": {},
   "source": [
    "### Q8. Enter your domain name, execute all the slicing possibilities and also negative indexing."
   ]
  },
  {
   "cell_type": "code",
   "execution_count": 27,
   "metadata": {},
   "outputs": [
    {
     "name": "stdout",
     "output_type": "stream",
     "text": [
      "EventManagement\n",
      "\n",
      "Positive indexing and slicing:\n",
      "Character at index 0: E\n",
      "Characters from index 1 to 3: ven\n",
      "Characters from index 2 onwards: ent Management\n",
      "\n",
      "Negative indexing and slicing:\n",
      "Character at index -1: t\n",
      "Characters from index -4 to -2: men\n",
      "Characters except the last one: Event Managemen\n",
      "\n",
      "Using negative step:\n",
      "Reverse the string: tnemeganaM tnevE\n",
      "Every second character in reverse: teeaa nv\n"
     ]
    }
   ],
   "source": [
    "domain = \"Event Management\"  # input(\"Enter your domain name : \") -- Since input values are not printed after execution on Jupyter-Vs Code\n",
    "l = domain.replace(\" \",\"\")\n",
    "\n",
    "print(l, end=\"\\n\\n\")\n",
    "# Positive indexing and slicing\n",
    "print(\"Positive indexing and slicing:\")\n",
    "print(\"Character at index 0:\", domain[0])       \n",
    "print(\"Characters from index 1 to 3:\", domain[1:4]) \n",
    "print(\"Characters from index 2 onwards:\", domain[2:])\n",
    "\n",
    "# Negative indexing and slicing\n",
    "print(\"\\nNegative indexing and slicing:\")\n",
    "print(\"Character at index -1:\", domain[-1])\n",
    "print(\"Characters from index -4 to -2:\", domain[-4:-1])\n",
    "print(\"Characters except the last one:\", domain[:-1])\n",
    "\n",
    "# Using negative step in slicing\n",
    "print(\"\\nUsing negative step:\")\n",
    "print(\"Reverse the string:\", domain[::-1])\n",
    "print(\"Every second character in reverse:\", domain[::-2])\n"
   ]
  }
 ],
 "metadata": {
  "kernelspec": {
   "display_name": "Python 3",
   "language": "python",
   "name": "python3"
  },
  "language_info": {
   "codemirror_mode": {
    "name": "ipython",
    "version": 3
   },
   "file_extension": ".py",
   "mimetype": "text/x-python",
   "name": "python",
   "nbconvert_exporter": "python",
   "pygments_lexer": "ipython3",
   "version": "3.11.4"
  },
  "orig_nbformat": 4
 },
 "nbformat": 4,
 "nbformat_minor": 2
}
