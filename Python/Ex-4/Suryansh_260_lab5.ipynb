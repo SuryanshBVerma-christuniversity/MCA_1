{
 "cells": [
  {
   "cell_type": "markdown",
   "metadata": {},
   "source": [
    "### Q1. Write a program to handle the exception of ZeroDivisionError."
   ]
  },
  {
   "cell_type": "code",
   "execution_count": 8,
   "metadata": {},
   "outputs": [
    {
     "name": "stdout",
     "output_type": "stream",
     "text": [
      "Quotient = 2\n",
      "Division By zero is NOT ALLOWED\n"
     ]
    }
   ],
   "source": [
    "def divide(n , m):\n",
    "\n",
    "    try:\n",
    "        quotient = int(n / m)\n",
    "        print(f\"Quotient = {quotient}\")\n",
    "    except ZeroDivisionError:\n",
    "        print(\"Division By zero is NOT ALLOWED\")\n",
    "\n",
    "\n",
    "divide(6,3)\n",
    "divide(1,0)\n"
   ]
  },
  {
   "cell_type": "markdown",
   "metadata": {},
   "source": [
    "### Q2. Write a program to handle the exception of IndexError."
   ]
  },
  {
   "cell_type": "code",
   "execution_count": 22,
   "metadata": {},
   "outputs": [
    {
     "name": "stdout",
     "output_type": "stream",
     "text": [
      "Index 7 is out of range !! \tIndex should be under the range 0-3\n"
     ]
    }
   ],
   "source": [
    "def ValueAt(list, i):\n",
    "    \n",
    "    try:\n",
    "        value = list[i]\n",
    "        print(f\"Value at index {i} is : {value}\")\n",
    "\n",
    "    except IndexError:\n",
    "        print(f\"Index {i} is out of range !! \", end=\"\\t\")\n",
    "        print(f\"Index should be under the range 0-{len(list)-1}\")\n",
    "\n",
    "\n",
    "def ValueAt2(list, i):\n",
    "    if(i > len(list)-1):\n",
    "        raise Exception(f\"Index {i} is out of range !! \")\n",
    "    \n",
    "    value = list[i]\n",
    "    print(f\"Value at index {i} is : {value}\")\n",
    "\n",
    "\n",
    "list = [2, 4, 7, 6]\n",
    "\n",
    "ValueAt(list, 3)\n",
    "ValueAt(list,7)\n",
    "\n",
    "# Another function\n",
    "ValueAt2(list,7)"
   ]
  }
 ],
 "metadata": {
  "kernelspec": {
   "display_name": "Python 3",
   "language": "python",
   "name": "python3"
  },
  "language_info": {
   "codemirror_mode": {
    "name": "ipython",
    "version": 3
   },
   "file_extension": ".py",
   "mimetype": "text/x-python",
   "name": "python",
   "nbconvert_exporter": "python",
   "pygments_lexer": "ipython3",
   "version": "3.11.4"
  },
  "orig_nbformat": 4
 },
 "nbformat": 4,
 "nbformat_minor": 2
}
