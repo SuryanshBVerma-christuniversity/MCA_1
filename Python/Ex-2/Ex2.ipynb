{
 "cells": [
  {
   "cell_type": "markdown",
   "metadata": {},
   "source": [
    "### Q1. Create a LIST with your domain attributes, insert the elements using the append (), insert(), extend() and add any iterables (tuples, sets, dictionaries etc.) to the list (Use all the methods )."
   ]
  },
  {
   "cell_type": "code",
   "execution_count": 1,
   "metadata": {},
   "outputs": [
    {
     "name": "stdout",
     "output_type": "stream",
     "text": [
      "append() :  ['Event_Name', 'Location', 'Time', 'Invitation_Status']\n",
      "insert() :  ['Sl_no', 'Event_Name', 'Location', 'Time', 'Invitation_Status']\n",
      "extend() :  ['Sl_no', 'Event_Name', 'Location', 'Time', 'Invitation_Status', 'Manager_name']\n",
      "['Sl_no', 'Event_Name', ['Sans berg', \"St. Thomas's\", 'Eden Park'], 'Location', 'Time', 'Invitation_Status', 'Manager_name']\n"
     ]
    }
   ],
   "source": [
    "domain_attributes = [\"Event_Name\", \"Location\", \"Time\"]\n",
    "\n",
    "domain_attributes.append(\"Invitation_Status\")\n",
    "print(\"append() : \", domain_attributes)\n",
    "\n",
    "domain_attributes.insert(0, \"Sl_no\")\n",
    "print(\"insert() : \", domain_attributes)\n",
    "\n",
    "new = [\"Manager_name\",]\n",
    "domain_attributes.extend(new)\n",
    "print(\"extend() : \", domain_attributes)\n",
    "\n",
    "loc = [\"Sans berg\", \"St. Thomas's\", \"Eden Park\"]\n",
    "domain_attributes.insert(2, loc)\n",
    "print(domain_attributes)"
   ]
  },
  {
   "cell_type": "markdown",
   "metadata": {},
   "source": [
    "### Write a program to swap the first and last elements in a list."
   ]
  },
  {
   "cell_type": "code",
   "execution_count": 3,
   "metadata": {},
   "outputs": [
    {
     "name": "stdout",
     "output_type": "stream",
     "text": [
      "[1, 9, 3, 4, 5, 6, 7, 8, 2]\n"
     ]
    }
   ],
   "source": [
    "list = [1, 2, 3, 4, 5, 6, 7, 8, 9]\n",
    "\n",
    "list[1], list[-1] = list[-1], list[1]\n",
    "\n",
    "print(list)"
   ]
  },
  {
   "cell_type": "markdown",
   "metadata": {},
   "source": [
    "###  Write a program to find the sum of the digits in a list."
   ]
  },
  {
   "cell_type": "code",
   "execution_count": 6,
   "metadata": {},
   "outputs": [
    {
     "name": "stdout",
     "output_type": "stream",
     "text": [
      "Sum : 45\n"
     ]
    }
   ],
   "source": [
    "list = [1, 2, 3, 4, 5, 6, 7, 8, 9]\n",
    "sum = 0\n",
    "for i in list:\n",
    "    sum += i\n",
    "\n",
    "print(\"Sum :\", sum)"
   ]
  },
  {
   "cell_type": "markdown",
   "metadata": {},
   "source": [
    "### Write a program to find the smallest element in a list"
   ]
  },
  {
   "cell_type": "code",
   "execution_count": 2,
   "metadata": {},
   "outputs": [
    {
     "name": "stdout",
     "output_type": "stream",
     "text": [
      "Minimum :  0\n"
     ]
    }
   ],
   "source": [
    "list = [3, 4, 2, 4, 0, 4, 7, 8, 9]\n",
    "\n",
    "min = list[0]\n",
    "\n",
    "for i in list:\n",
    "    if i < min:\n",
    "        min = i\n",
    "\n",
    "print(\"Minimum : \", min)"
   ]
  },
  {
   "cell_type": "markdown",
   "metadata": {},
   "source": [
    "### Sort the dictionaries in ascending order based on the Key of the dictionary."
   ]
  },
  {
   "cell_type": "code",
   "execution_count": 23,
   "metadata": {},
   "outputs": [
    {
     "name": "stdout",
     "output_type": "stream",
     "text": [
      "{'Public': 'Student', 'Event name': 'Ureka', 'Location': 'Eden garden'}\n"
     ]
    }
   ],
   "source": [
    "dict = {\n",
    "    \"Public\" : \"Student\",\n",
    "    \"Event name\" : \"Ureka\", \n",
    "    \"Location\" : \"Eden garden\"\n",
    "}\n",
    "sorted(dict.keys())\n",
    "print(dict)"
   ]
  },
  {
   "cell_type": "markdown",
   "metadata": {},
   "source": [
    "### Create the dictionary with Numeric as Value in Key – Value pair and find the sum of all the values in the Dictionary."
   ]
  },
  {
   "cell_type": "code",
   "execution_count": 15,
   "metadata": {},
   "outputs": [
    {
     "name": "stdout",
     "output_type": "stream",
     "text": [
      "97\n"
     ]
    }
   ],
   "source": [
    "dict = {\"num1\": 3, \"num2\": 89, \"num3\": 5, \"num4\": 0}\n",
    "\n",
    "sum = 0\n",
    "for keys in dict:\n",
    "    sum += dict[keys]\n",
    "\n",
    "print(sum)\n"
   ]
  },
  {
   "cell_type": "markdown",
   "metadata": {},
   "source": [
    "### Write a Python code to demonstrate the sorting in descending order of values with lambda function."
   ]
  },
  {
   "cell_type": "code",
   "execution_count": 4,
   "metadata": {},
   "outputs": [
    {
     "name": "stdout",
     "output_type": "stream",
     "text": [
      "[('num2', 100), ('num1', 4), ('num3', 2), ('num4', 1)]\n"
     ]
    }
   ],
   "source": [
    "dict = {\"num1\": 4, \"num2\": 100, \"num3\": 2, \"num4\": 1}\n",
    "\n",
    "sort = sorted(dict.items(), key = lambda x: x[1], reverse=True)\n",
    "\n",
    "print(sort)"
   ]
  }
 ],
 "metadata": {
  "kernelspec": {
   "display_name": "Python 3",
   "language": "python",
   "name": "python3"
  },
  "language_info": {
   "codemirror_mode": {
    "name": "ipython",
    "version": 3
   },
   "file_extension": ".py",
   "mimetype": "text/x-python",
   "name": "python",
   "nbconvert_exporter": "python",
   "pygments_lexer": "ipython3",
   "version": "3.11.4"
  },
  "orig_nbformat": 4
 },
 "nbformat": 4,
 "nbformat_minor": 2
}
